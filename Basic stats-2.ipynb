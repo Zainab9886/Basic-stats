{
 "cells": [
  {
   "cell_type": "code",
   "execution_count": 1,
   "id": "bc35a330",
   "metadata": {},
   "outputs": [],
   "source": [
    "import numpy as np\n",
    "import scipy.stats as stats"
   ]
  },
  {
   "cell_type": "code",
   "execution_count": 2,
   "id": "2383735c",
   "metadata": {},
   "outputs": [],
   "source": [
    "# Data\n",
    "durability_data = np.array([1.13, 1.55, 1.43, 0.92, 1.25, 1.36, 1.32, 0.85, 1.07, 1.48, 1.20, 1.33, 1.18, 1.22, 1.29])"
   ]
  },
  {
   "cell_type": "code",
   "execution_count": 3,
   "id": "d5248b84",
   "metadata": {},
   "outputs": [
    {
     "data": {
      "text/plain": [
       "array([1.13, 1.55, 1.43, 0.92, 1.25, 1.36, 1.32, 0.85, 1.07, 1.48, 1.2 ,\n",
       "       1.33, 1.18, 1.22, 1.29])"
      ]
     },
     "execution_count": 3,
     "metadata": {},
     "output_type": "execute_result"
    }
   ],
   "source": [
    "durability_data"
   ]
  },
  {
   "cell_type": "code",
   "execution_count": 4,
   "id": "469095c8",
   "metadata": {},
   "outputs": [],
   "source": [
    "# Sample statistics\n",
    "n = len(durability_data)\n",
    "mean = np.mean(durability_data)\n",
    "sample_std = np.std(durability_data, ddof=1)  # Sample standard deviation"
   ]
  },
  {
   "cell_type": "code",
   "execution_count": 5,
   "id": "50138424",
   "metadata": {},
   "outputs": [],
   "source": [
    "# 99% confidence interval using t-distribution\n",
    "confidence_level = 0.99\n",
    "alpha = 1 - confidence_level\n",
    "t_critical = stats.t.ppf(1 - alpha/2, df=n-1)"
   ]
  },
  {
   "cell_type": "code",
   "execution_count": 6,
   "id": "8133ab6b",
   "metadata": {},
   "outputs": [],
   "source": [
    "margin_of_error = t_critical * (sample_std / np.sqrt(n))"
   ]
  },
  {
   "cell_type": "code",
   "execution_count": 7,
   "id": "8b5a1bdb",
   "metadata": {},
   "outputs": [],
   "source": [
    "# Confidence Interval\n",
    "confidence_interval = (mean - margin_of_error, mean + margin_of_error)"
   ]
  },
  {
   "cell_type": "code",
   "execution_count": 8,
   "id": "f1b103d0",
   "metadata": {},
   "outputs": [
    {
     "name": "stdout",
     "output_type": "stream",
     "text": [
      "99% Confidence Interval (Sample Std Dev): (1.090197338451367, 1.3871359948819662)\n"
     ]
    }
   ],
   "source": [
    "print(f\"99% Confidence Interval (Sample Std Dev): {confidence_interval}\")"
   ]
  },
  {
   "cell_type": "code",
   "execution_count": 9,
   "id": "2baf87fe",
   "metadata": {},
   "outputs": [],
   "source": [
    "# Given population standard deviation\n",
    "population_std = 0.2"
   ]
  },
  {
   "cell_type": "code",
   "execution_count": 10,
   "id": "45620a07",
   "metadata": {},
   "outputs": [],
   "source": [
    "# 99% confidence interval using z-distribution\n",
    "z_critical = stats.norm.ppf(1 - alpha/2)"
   ]
  },
  {
   "cell_type": "code",
   "execution_count": 11,
   "id": "a74d5ca6",
   "metadata": {},
   "outputs": [],
   "source": [
    "margin_of_error_population = z_critical * (population_std / np.sqrt(n))"
   ]
  },
  {
   "cell_type": "code",
   "execution_count": 12,
   "id": "0bee33dd",
   "metadata": {},
   "outputs": [],
   "source": [
    "# Confidence Interval\n",
    "confidence_interval_population = (mean - margin_of_error_population, mean + margin_of_error_population)"
   ]
  },
  {
   "cell_type": "code",
   "execution_count": 13,
   "id": "8b40cab2",
   "metadata": {},
   "outputs": [
    {
     "name": "stdout",
     "output_type": "stream",
     "text": [
      "99% Confidence Interval (Known Population Std Dev): (1.1056514133957607, 1.3716819199375725)\n"
     ]
    }
   ],
   "source": [
    "print(f\"99% Confidence Interval (Known Population Std Dev): {confidence_interval_population}\")"
   ]
  },
  {
   "cell_type": "code",
   "execution_count": null,
   "id": "02330537",
   "metadata": {},
   "outputs": [],
   "source": []
  }
 ],
 "metadata": {
  "kernelspec": {
   "display_name": "Python 3 (ipykernel)",
   "language": "python",
   "name": "python3"
  },
  "language_info": {
   "codemirror_mode": {
    "name": "ipython",
    "version": 3
   },
   "file_extension": ".py",
   "mimetype": "text/x-python",
   "name": "python",
   "nbconvert_exporter": "python",
   "pygments_lexer": "ipython3",
   "version": "3.11.5"
  }
 },
 "nbformat": 4,
 "nbformat_minor": 5
}
